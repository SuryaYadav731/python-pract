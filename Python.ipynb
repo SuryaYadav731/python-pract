{
 "cells": [
  {
   "cell_type": "code",
   "execution_count": 8,
   "id": "d63850aa-a530-442a-9b91-960290e0a949",
   "metadata": {},
   "outputs": [],
   "source": [
    "#python is programming language\n",
    "#python is high level language\n",
    "# python is simple language\n",
    "#It is open source\n"
   ]
  },
  {
   "cell_type": "code",
   "execution_count": 9,
   "id": "9fa64905-65ca-4e9c-856f-6066fdba2e22",
   "metadata": {},
   "outputs": [
    {
     "name": "stdout",
     "output_type": "stream",
     "text": [
      "hello\n"
     ]
    }
   ],
   "source": [
    "print(\"hello\")"
   ]
  },
  {
   "cell_type": "markdown",
   "id": "b3a0f913-cba2-4c72-ba66-b35f0e11ba11",
   "metadata": {},
   "source": [
    "## Character"
   ]
  },
  {
   "cell_type": "code",
   "execution_count": 10,
   "id": "202114a8-7e61-4881-9a2e-2b2c0d492b95",
   "metadata": {},
   "outputs": [],
   "source": [
    "# letter, digit, special symbol, whtespace, other character(ASCII, unicode)\n",
    "# Variable\n",
    "# A variable is a name given to a memory location in a program\n",
    "# a = 20\n",
    "# a  is variable\n",
    "# 20 is value"
   ]
  },
  {
   "cell_type": "markdown",
   "id": "13106330-65a8-4a09-996f-102f280da1af",
   "metadata": {},
   "source": [
    "# Identifier"
   ]
  },
  {
   "cell_type": "code",
   "execution_count": 11,
   "id": "5351ac4c-8be0-4087-8e7f-ece6173db6fc",
   "metadata": {},
   "outputs": [],
   "source": [
    "# can't start digit \n",
    "# not use special symbols\n"
   ]
  },
  {
   "cell_type": "markdown",
   "id": "fa5a8292-f813-43b6-a03d-fc7ec768b563",
   "metadata": {},
   "source": [
    "# Data Type"
   ]
  },
  {
   "cell_type": "code",
   "execution_count": 12,
   "id": "567aa163-7b82-4861-a536-bceb50baf243",
   "metadata": {},
   "outputs": [],
   "source": [
    "#Integer, String, Float, Boolean, None"
   ]
  },
  {
   "cell_type": "markdown",
   "id": "8e83c254-0be1-436b-a4c4-f6ed4a438557",
   "metadata": {},
   "source": [
    "# Keyword"
   ]
  },
  {
   "cell_type": "code",
   "execution_count": 13,
   "id": "f6b9e684-476d-40a9-b8b4-ff13cd85c715",
   "metadata": {},
   "outputs": [],
   "source": [
    "# Keyword are reserved words in python\n",
    "# Python case-sensitive"
   ]
  },
  {
   "cell_type": "code",
   "execution_count": 14,
   "id": "5b646284-6f5e-4080-b1a8-40ab8c823b5a",
   "metadata": {},
   "outputs": [
    {
     "name": "stdout",
     "output_type": "stream",
     "text": [
      "5\n"
     ]
    }
   ],
   "source": [
    "a= 2\n",
    "b= 3\n",
    "print(a+b)"
   ]
  },
  {
   "cell_type": "markdown",
   "id": "a34218c6-e874-412c-8a69-8904129cff68",
   "metadata": {},
   "source": [
    "## Comment"
   ]
  },
  {
   "cell_type": "code",
   "execution_count": 15,
   "id": "17c950a0-741f-4182-bd6c-97196bccd241",
   "metadata": {},
   "outputs": [],
   "source": [
    "#Single line comment\n",
    "#  \"\"\" Multi line comment \"\"\""
   ]
  },
  {
   "cell_type": "code",
   "execution_count": 16,
   "id": "f43c43a0-0ff0-466a-a520-0a6094818031",
   "metadata": {},
   "outputs": [
    {
     "name": "stdout",
     "output_type": "stream",
     "text": [
      "Multiline\n",
      "     Comment\n"
     ]
    }
   ],
   "source": [
    "print(\"\"\"Multiline\n",
    "     Comment\"\"\")"
   ]
  },
  {
   "cell_type": "markdown",
   "id": "949a8cc3-623f-40de-bec6-11f05b751831",
   "metadata": {},
   "source": [
    "# Operators"
   ]
  },
  {
   "cell_type": "code",
   "execution_count": 17,
   "id": "07ed94f1-542b-4c39-86f6-aff1aa12f579",
   "metadata": {},
   "outputs": [],
   "source": [
    "# Arithmetic , Relation/Comparison, Assignment , Logical\n",
    "# An operator is a symbol that performs a certain operation between operands"
   ]
  },
  {
   "cell_type": "code",
   "execution_count": 18,
   "id": "835459f2-49b9-4422-ac89-f106eb87fc6d",
   "metadata": {},
   "outputs": [
    {
     "name": "stdout",
     "output_type": "stream",
     "text": [
      "5.25\n",
      "5\n",
      "1\n"
     ]
    }
   ],
   "source": [
    "a =21\n",
    "b=4\n",
    "print(a/b)\n",
    "print(a//b)\n",
    "print(a%b)"
   ]
  },
  {
   "cell_type": "markdown",
   "id": "70b3f2c8-2f35-421b-a35d-269884d61845",
   "metadata": {},
   "source": [
    "# Type Conversion"
   ]
  },
  {
   "cell_type": "code",
   "execution_count": 19,
   "id": "f0346e59-c40e-481e-aa65-9c3358f3b285",
   "metadata": {},
   "outputs": [],
   "source": [
    "#conversion and  castig\n",
    "# python interpreter itself convert \n",
    "# casting is converting programmer \n"
   ]
  },
  {
   "cell_type": "code",
   "execution_count": 20,
   "id": "e8eb7aa3-0b66-4c94-a9e2-4cc8abc2f559",
   "metadata": {},
   "outputs": [
    {
     "name": "stdout",
     "output_type": "stream",
     "text": [
      "3\n"
     ]
    }
   ],
   "source": [
    "aa, b = 1,\"2\"\n",
    "c=int(b)\n",
    "print(aa+c)"
   ]
  },
  {
   "cell_type": "markdown",
   "id": "d474ca69-3598-454a-8f0a-deaabcb880ba",
   "metadata": {},
   "source": [
    "# Input from user"
   ]
  },
  {
   "cell_type": "code",
   "execution_count": 21,
   "id": "32c51533-2351-4886-87ae-1dfbb03806c2",
   "metadata": {},
   "outputs": [],
   "source": [
    "# input() statement is used to accept values (using keyword) from user\n",
    "# input()\n",
    "# int(input())"
   ]
  },
  {
   "cell_type": "code",
   "execution_count": 22,
   "id": "206f96af-c170-4702-a674-25823d5b6270",
   "metadata": {},
   "outputs": [
    {
     "name": "stdin",
     "output_type": "stream",
     "text": [
      "Enter a :  2\n",
      "Enter b:  3\n"
     ]
    },
    {
     "name": "stdout",
     "output_type": "stream",
     "text": [
      "5\n"
     ]
    }
   ],
   "source": [
    "a=int(input(\"Enter a : \"))\n",
    "b=int(input(\"Enter b: \"))\n",
    "print(a+b)"
   ]
  },
  {
   "cell_type": "code",
   "execution_count": 23,
   "id": "03c5cac1-8b06-409e-a87e-8f11124cdcc1",
   "metadata": {},
   "outputs": [],
   "source": [
    "# always input is string value\n"
   ]
  },
  {
   "cell_type": "code",
   "execution_count": 24,
   "id": "5c4978c7-9429-4a4d-b3d0-82727c6597ab",
   "metadata": {},
   "outputs": [
    {
     "name": "stdin",
     "output_type": "stream",
     "text": [
      "Enter side:  23\n"
     ]
    },
    {
     "name": "stdout",
     "output_type": "stream",
     "text": [
      "Area of square:  529\n"
     ]
    }
   ],
   "source": [
    "a = int(input(\"Enter side: \"))\n",
    "print(\"Area of square: \", a*a)"
   ]
  },
  {
   "cell_type": "markdown",
   "id": "10bf1112-217d-4e4a-a205-4f9bd1200455",
   "metadata": {},
   "source": [
    "# Conditional Statement"
   ]
  },
  {
   "cell_type": "markdown",
   "id": "c7dc4ff2-da31-470f-8018-0bd4031811a9",
   "metadata": {},
   "source": [
    "#### String"
   ]
  },
  {
   "cell_type": "code",
   "execution_count": 25,
   "id": "3712d37f-703c-4b8b-8a98-a5f564439c4c",
   "metadata": {},
   "outputs": [],
   "source": [
    "# string is data type that stores a sequence of characters\n"
   ]
  },
  {
   "cell_type": "markdown",
   "id": "2f4e0e1c-c239-43c4-bdf7-04bbf1b1e837",
   "metadata": {},
   "source": [
    "#### String Concatenation"
   ]
  },
  {
   "cell_type": "code",
   "execution_count": 26,
   "id": "92ed6e70-ba33-4838-8f95-991e94328794",
   "metadata": {},
   "outputs": [
    {
     "name": "stdout",
     "output_type": "stream",
     "text": [
      "Python is langaugecomputer \n"
     ]
    },
    {
     "data": {
      "text/plain": [
       "27"
      ]
     },
     "execution_count": 26,
     "metadata": {},
     "output_type": "execute_result"
    }
   ],
   "source": [
    "a = \"Python is langauge\"\n",
    "b = 'computer '\n",
    "c= a+b\n",
    "print(c)\n",
    "len(c)"
   ]
  },
  {
   "cell_type": "markdown",
   "id": "d2bc0fd6-5889-4403-9f91-11f99cc69b7c",
   "metadata": {},
   "source": [
    "### indexing"
   ]
  },
  {
   "cell_type": "code",
   "execution_count": 27,
   "id": "b89770ab-c15c-4770-b3c9-060cadb51028",
   "metadata": {},
   "outputs": [
    {
     "name": "stdout",
     "output_type": "stream",
     "text": [
      "h\n"
     ]
    }
   ],
   "source": [
    "print(a[3])"
   ]
  },
  {
   "cell_type": "code",
   "execution_count": 28,
   "id": "3c2655b9-352e-404b-a85e-afc056312999",
   "metadata": {},
   "outputs": [],
   "source": [
    "# slicing:- accessing parts of a string\n",
    "# endswith, caitalize, replace, find, count"
   ]
  },
  {
   "cell_type": "code",
   "execution_count": 29,
   "id": "af384c54-917f-419b-a891-c84b94ebcf34",
   "metadata": {},
   "outputs": [
    {
     "name": "stdout",
     "output_type": "stream",
     "text": [
      "True\n",
      "Surya is crazy boy\n",
      "s0rya is Crazy Boy\n",
      "6\n"
     ]
    }
   ],
   "source": [
    "a= \"surya is Crazy Boy\"\n",
    "print(a.endswith(\"oy\"))\n",
    "print(a.capitalize())\n",
    "print(a.replace('u','0'))\n",
    "print(a.find('is'))"
   ]
  },
  {
   "cell_type": "markdown",
   "id": "f8d44cf4-a00d-4818-b575-bd71dfc031c2",
   "metadata": {},
   "source": [
    "# Conditional Statement"
   ]
  },
  {
   "cell_type": "code",
   "execution_count": 30,
   "id": "23bd1c49-4f55-4699-9012-7a13d29afde4",
   "metadata": {},
   "outputs": [
    {
     "name": "stdout",
     "output_type": "stream",
     "text": [
      "Not Vote\n"
     ]
    }
   ],
   "source": [
    "a  = 10\n",
    "if(a>18):\n",
    "    print(\"Vote\")\n",
    "else:\n",
    "    print(\"Not Vote\")"
   ]
  },
  {
   "cell_type": "markdown",
   "id": "3efa0444-8179-4c72-8380-1035c6093fc9",
   "metadata": {},
   "source": [
    "# List"
   ]
  },
  {
   "cell_type": "code",
   "execution_count": 31,
   "id": "d7589d82-1f44-40ac-8618-51b7b42510dd",
   "metadata": {},
   "outputs": [],
   "source": [
    "# A built-in data type that stores set of values\n",
    "# It can store elements of different types(interger, float, string,etc)\n",
    "# List is mutable\n",
    "# String is immutable"
   ]
  },
  {
   "cell_type": "code",
   "execution_count": 32,
   "id": "b10ca176-0e2c-426a-94d2-8cb611f48838",
   "metadata": {},
   "outputs": [
    {
     "data": {
      "text/plain": [
       "78"
      ]
     },
     "execution_count": 32,
     "metadata": {},
     "output_type": "execute_result"
    }
   ],
   "source": [
    "marks=[33,56,78,89]\n",
    "marks[2]"
   ]
  },
  {
   "cell_type": "code",
   "execution_count": 33,
   "id": "6db310db-ca6a-433d-a1e0-a26ebeb7b2d5",
   "metadata": {},
   "outputs": [
    {
     "name": "stdout",
     "output_type": "stream",
     "text": [
      "[33, 56, 78, 89]\n"
     ]
    }
   ],
   "source": [
    "print(marks)"
   ]
  },
  {
   "cell_type": "code",
   "execution_count": 34,
   "id": "ea75ed68-7b3f-4747-bc56-bad2c700edeb",
   "metadata": {},
   "outputs": [
    {
     "name": "stdout",
     "output_type": "stream",
     "text": [
      "<class 'list'>\n"
     ]
    }
   ],
   "source": [
    "print(type(marks))"
   ]
  },
  {
   "cell_type": "code",
   "execution_count": 35,
   "id": "df8efdf3-fa97-4c95-a37e-4dc69f6d08b7",
   "metadata": {},
   "outputs": [],
   "source": [
    "marks.append(5)"
   ]
  },
  {
   "cell_type": "code",
   "execution_count": 36,
   "id": "d5936469-b50c-4064-98a2-50c70a610708",
   "metadata": {},
   "outputs": [
    {
     "data": {
      "text/plain": [
       "[33, 56, 78, 89, 5]"
      ]
     },
     "execution_count": 36,
     "metadata": {},
     "output_type": "execute_result"
    }
   ],
   "source": [
    "marks\n"
   ]
  },
  {
   "cell_type": "code",
   "execution_count": 37,
   "id": "78ce140b-de75-4ab8-8903-5e06eead13ca",
   "metadata": {},
   "outputs": [],
   "source": [
    "marks.sort()"
   ]
  },
  {
   "cell_type": "code",
   "execution_count": 38,
   "id": "1ef8a3a9-0c71-4528-b1eb-d60b79b82918",
   "metadata": {},
   "outputs": [
    {
     "data": {
      "text/plain": [
       "[5, 33, 56, 78, 89]"
      ]
     },
     "execution_count": 38,
     "metadata": {},
     "output_type": "execute_result"
    }
   ],
   "source": [
    "marks"
   ]
  },
  {
   "cell_type": "code",
   "execution_count": 39,
   "id": "b7700bce-ba3f-4825-aecc-18b933228b71",
   "metadata": {},
   "outputs": [],
   "source": [
    "marks.reverse()"
   ]
  },
  {
   "cell_type": "code",
   "execution_count": 40,
   "id": "cdc5bd57-e25b-47c5-b7ba-af7fdc6d374a",
   "metadata": {},
   "outputs": [
    {
     "data": {
      "text/plain": [
       "[89, 78, 56, 33, 5]"
      ]
     },
     "execution_count": 40,
     "metadata": {},
     "output_type": "execute_result"
    }
   ],
   "source": [
    "marks"
   ]
  },
  {
   "cell_type": "code",
   "execution_count": 41,
   "id": "700e36f3-9558-4166-8255-82bb469b373d",
   "metadata": {},
   "outputs": [],
   "source": [
    "marks.insert(3,45)"
   ]
  },
  {
   "cell_type": "code",
   "execution_count": 42,
   "id": "9e788c5c-3c61-4cbf-8aeb-0ff866cbef64",
   "metadata": {},
   "outputs": [
    {
     "data": {
      "text/plain": [
       "[89, 78, 56, 45, 33, 5]"
      ]
     },
     "execution_count": 42,
     "metadata": {},
     "output_type": "execute_result"
    }
   ],
   "source": [
    "marks"
   ]
  },
  {
   "cell_type": "code",
   "execution_count": 43,
   "id": "60444cf8-1b95-402b-ac35-c168282522a8",
   "metadata": {},
   "outputs": [],
   "source": [
    "marks.remove(56)"
   ]
  },
  {
   "cell_type": "code",
   "execution_count": 44,
   "id": "b8dfb5b4-5a33-4917-b5ac-e9912e1f31f9",
   "metadata": {},
   "outputs": [
    {
     "data": {
      "text/plain": [
       "[89, 78, 45, 33, 5]"
      ]
     },
     "execution_count": 44,
     "metadata": {},
     "output_type": "execute_result"
    }
   ],
   "source": [
    "marks"
   ]
  },
  {
   "cell_type": "code",
   "execution_count": 45,
   "id": "e4c3cde4-3d85-4c9d-9909-03d38cb24cdc",
   "metadata": {},
   "outputs": [
    {
     "data": {
      "text/plain": [
       "33"
      ]
     },
     "execution_count": 45,
     "metadata": {},
     "output_type": "execute_result"
    }
   ],
   "source": [
    "marks.pop(3)"
   ]
  },
  {
   "cell_type": "markdown",
   "id": "18ab033e-27cd-4d9e-861a-35995988f231",
   "metadata": {},
   "source": [
    "# Tuple"
   ]
  },
  {
   "cell_type": "code",
   "execution_count": 46,
   "id": "e1b29769-cbc7-44bf-b1ac-f8ba8d8d9726",
   "metadata": {},
   "outputs": [],
   "source": [
    "# A built-in data type that lets us create immutable sequences of vaalue\n"
   ]
  },
  {
   "cell_type": "code",
   "execution_count": 47,
   "id": "1d7f17a7-a7c6-46c0-9d9d-0f99903fd44c",
   "metadata": {},
   "outputs": [
    {
     "data": {
      "text/plain": [
       "(46, 89, 7, 3388, 958, 84)"
      ]
     },
     "execution_count": 47,
     "metadata": {},
     "output_type": "execute_result"
    }
   ],
   "source": [
    "tup = (46,89,7,3388,958,84)\n",
    "tup"
   ]
  },
  {
   "cell_type": "code",
   "execution_count": 48,
   "id": "6c4e226f-c525-45fb-8b2f-a7e6f2cbc3d6",
   "metadata": {},
   "outputs": [
    {
     "data": {
      "text/plain": [
       "tuple"
      ]
     },
     "execution_count": 48,
     "metadata": {},
     "output_type": "execute_result"
    }
   ],
   "source": [
    "type(tup)"
   ]
  },
  {
   "cell_type": "code",
   "execution_count": 49,
   "id": "cd78114a-e33d-4552-8dff-cfaf8bf3133d",
   "metadata": {},
   "outputs": [
    {
     "data": {
      "text/plain": [
       "46"
      ]
     },
     "execution_count": 49,
     "metadata": {},
     "output_type": "execute_result"
    }
   ],
   "source": [
    "tup[0]"
   ]
  },
  {
   "cell_type": "markdown",
   "id": "7f30a206-beb2-454f-acfa-7f4fc4d6b63a",
   "metadata": {},
   "source": [
    "# Dictionary"
   ]
  },
  {
   "cell_type": "code",
   "execution_count": 50,
   "id": "d7c593be-6c4b-4bac-aa26-52dfbaed09a2",
   "metadata": {},
   "outputs": [],
   "source": [
    "# Dictionary are used to store data values in key:value pairs\n",
    "# They are unordered, mutable and don't allow duplicate keys"
   ]
  },
  {
   "cell_type": "code",
   "execution_count": 51,
   "id": "1256b418-cc05-4fc2-84ba-f19f90c89b50",
   "metadata": {},
   "outputs": [],
   "source": [
    "hy = {\"name\": \"Surya\",\n",
    "      \"class\": \"Bachelor\",\n",
    "      \"Roll\": 2023029}"
   ]
  },
  {
   "cell_type": "code",
   "execution_count": 52,
   "id": "b6f118b2-0e9d-4f88-bb6f-81facfee8002",
   "metadata": {},
   "outputs": [
    {
     "data": {
      "text/plain": [
       "{'name': 'Surya', 'class': 'Bachelor', 'Roll': 2023029}"
      ]
     },
     "execution_count": 52,
     "metadata": {},
     "output_type": "execute_result"
    }
   ],
   "source": [
    "hy"
   ]
  },
  {
   "cell_type": "code",
   "execution_count": 53,
   "id": "ec25304b-447a-4ebe-8720-73806746d165",
   "metadata": {},
   "outputs": [
    {
     "name": "stdout",
     "output_type": "stream",
     "text": [
      "Surya\n"
     ]
    }
   ],
   "source": [
    "print(hy[\"name\"])"
   ]
  },
  {
   "cell_type": "code",
   "execution_count": 54,
   "id": "35cff6a8-cd41-4ead-86e8-c8705c2a98d2",
   "metadata": {},
   "outputs": [
    {
     "data": {
      "text/plain": [
       "dict"
      ]
     },
     "execution_count": 54,
     "metadata": {},
     "output_type": "execute_result"
    }
   ],
   "source": [
    "type(hy)"
   ]
  },
  {
   "cell_type": "code",
   "execution_count": 55,
   "id": "b63b8734-bfdd-45b7-8ecf-0f0e595cc4f5",
   "metadata": {},
   "outputs": [
    {
     "data": {
      "text/plain": [
       "dict_keys(['name', 'class', 'Roll'])"
      ]
     },
     "execution_count": 55,
     "metadata": {},
     "output_type": "execute_result"
    }
   ],
   "source": [
    "hy.keys()"
   ]
  },
  {
   "cell_type": "code",
   "execution_count": 56,
   "id": "237e0967-057c-4721-8b25-c209f26df828",
   "metadata": {},
   "outputs": [
    {
     "data": {
      "text/plain": [
       "dict_values(['Surya', 'Bachelor', 2023029])"
      ]
     },
     "execution_count": 56,
     "metadata": {},
     "output_type": "execute_result"
    }
   ],
   "source": [
    "hy.values()"
   ]
  },
  {
   "cell_type": "code",
   "execution_count": 57,
   "id": "b0ce9c87-96d9-4f04-992a-aed949749057",
   "metadata": {},
   "outputs": [],
   "source": [
    "# items , get, update"
   ]
  },
  {
   "cell_type": "code",
   "execution_count": 58,
   "id": "b94b577f-1374-4954-86a5-d4ddf1f60f73",
   "metadata": {},
   "outputs": [
    {
     "data": {
      "text/plain": [
       "dict_items([('name', 'Surya'), ('class', 'Bachelor'), ('Roll', 2023029)])"
      ]
     },
     "execution_count": 58,
     "metadata": {},
     "output_type": "execute_result"
    }
   ],
   "source": [
    "hy.items()"
   ]
  },
  {
   "cell_type": "code",
   "execution_count": 59,
   "id": "e3c1885d-5ad6-4218-8411-4f51a8752dd0",
   "metadata": {},
   "outputs": [
    {
     "data": {
      "text/plain": [
       "'Surya'"
      ]
     },
     "execution_count": 59,
     "metadata": {},
     "output_type": "execute_result"
    }
   ],
   "source": [
    "hy.get(\"name\") # if not found value then output is none"
   ]
  },
  {
   "cell_type": "code",
   "execution_count": 60,
   "id": "85dee529-deba-4e8e-818a-0bffef9784c6",
   "metadata": {},
   "outputs": [],
   "source": [
    "hy.update({\"city\":\"Varanasi\"})"
   ]
  },
  {
   "cell_type": "code",
   "execution_count": 61,
   "id": "044d9abf-3b57-484b-8faa-483033638f60",
   "metadata": {},
   "outputs": [
    {
     "data": {
      "text/plain": [
       "{'name': 'Surya', 'class': 'Bachelor', 'Roll': 2023029, 'city': 'Varanasi'}"
      ]
     },
     "execution_count": 61,
     "metadata": {},
     "output_type": "execute_result"
    }
   ],
   "source": [
    "hy"
   ]
  },
  {
   "cell_type": "markdown",
   "id": "88cca091-66c8-4cee-a666-68af30ee8e26",
   "metadata": {},
   "source": [
    "# Set"
   ]
  },
  {
   "cell_type": "code",
   "execution_count": 62,
   "id": "28984893-a259-4834-8b6c-d5794bb15d2b",
   "metadata": {},
   "outputs": [],
   "source": [
    "# Set is the collection of the unordered items\n",
    "# Each element in the set must be unique and immutable"
   ]
  },
  {
   "cell_type": "code",
   "execution_count": 63,
   "id": "0e6b7b1f-0341-4242-89b0-9b2a4be9c653",
   "metadata": {},
   "outputs": [
    {
     "data": {
      "text/plain": [
       "{2, 3, 5, 7, 9, 56}"
      ]
     },
     "execution_count": 63,
     "metadata": {},
     "output_type": "execute_result"
    }
   ],
   "source": [
    "z = {2,5,3,56,7,5,3,9}\n",
    "z"
   ]
  },
  {
   "cell_type": "code",
   "execution_count": 64,
   "id": "c85da07c-6b41-4341-ac10-132b60e72e7b",
   "metadata": {},
   "outputs": [],
   "source": [
    "# add, remove, clear,  pop (random value remove), union , intersection"
   ]
  },
  {
   "cell_type": "markdown",
   "id": "6c9b4774-c47e-4556-bdf5-82ddde51cf29",
   "metadata": {},
   "source": [
    "# Loop"
   ]
  },
  {
   "cell_type": "code",
   "execution_count": 65,
   "id": "c26937bb-8d2f-4434-9690-307924a3c61a",
   "metadata": {},
   "outputs": [],
   "source": [
    "# Loops are used to repeat instructions"
   ]
  },
  {
   "cell_type": "markdown",
   "id": "57762bf7-ddfb-4d20-be0d-c1093137c882",
   "metadata": {},
   "source": [
    "## while"
   ]
  },
  {
   "cell_type": "code",
   "execution_count": 66,
   "id": "8f28a416-26f5-4a06-9f9b-24c0f10d53db",
   "metadata": {},
   "outputs": [
    {
     "name": "stdout",
     "output_type": "stream",
     "text": [
      "Surya\n",
      "Surya\n",
      "Surya\n",
      "Surya\n",
      "Surya\n",
      "Surya\n",
      "Surya\n",
      "Surya\n",
      "Surya\n"
     ]
    }
   ],
   "source": [
    "a=1 # iterator\n",
    "while a<10:\n",
    "    print(\"Surya\")\n",
    "    a = a+1"
   ]
  },
  {
   "cell_type": "code",
   "execution_count": 67,
   "id": "8729a4e6-9323-4d87-8d11-48878385d530",
   "metadata": {},
   "outputs": [
    {
     "name": "stdout",
     "output_type": "stream",
     "text": [
      "1\n",
      "2\n",
      "3\n",
      "4\n",
      "5\n",
      "6\n",
      "7\n",
      "8\n",
      "9\n",
      "10\n",
      "11\n",
      "12\n",
      "13\n",
      "14\n",
      "15\n",
      "16\n",
      "17\n",
      "18\n",
      "19\n",
      "20\n",
      "21\n",
      "22\n",
      "23\n",
      "24\n",
      "25\n",
      "26\n",
      "27\n",
      "28\n",
      "29\n",
      "30\n",
      "31\n",
      "32\n",
      "33\n",
      "34\n",
      "35\n",
      "36\n",
      "37\n",
      "38\n",
      "39\n",
      "40\n",
      "41\n",
      "42\n",
      "43\n",
      "44\n",
      "45\n",
      "46\n",
      "47\n",
      "48\n",
      "49\n",
      "50\n",
      "51\n",
      "52\n",
      "53\n",
      "54\n",
      "55\n",
      "56\n",
      "57\n",
      "58\n",
      "59\n",
      "60\n",
      "61\n",
      "62\n",
      "63\n",
      "64\n",
      "65\n",
      "66\n",
      "67\n",
      "68\n",
      "69\n",
      "70\n",
      "71\n",
      "72\n",
      "73\n",
      "74\n",
      "75\n",
      "76\n",
      "77\n",
      "78\n",
      "79\n",
      "80\n",
      "81\n",
      "82\n",
      "83\n",
      "84\n",
      "85\n",
      "86\n",
      "87\n",
      "88\n",
      "89\n",
      "90\n",
      "91\n",
      "92\n",
      "93\n",
      "94\n",
      "95\n",
      "96\n",
      "97\n",
      "98\n",
      "99\n",
      "100\n"
     ]
    }
   ],
   "source": [
    "b =1\n",
    "while b<=100:\n",
    "    print(b)\n",
    "    b = b+1"
   ]
  },
  {
   "cell_type": "code",
   "execution_count": 68,
   "id": "3b3cf09e-cb60-4de6-b2b8-94382bce0c5d",
   "metadata": {},
   "outputs": [
    {
     "name": "stdout",
     "output_type": "stream",
     "text": [
      "100\n",
      "99\n",
      "98\n",
      "97\n",
      "96\n",
      "95\n",
      "94\n",
      "93\n",
      "92\n",
      "91\n",
      "90\n",
      "89\n",
      "88\n",
      "87\n",
      "86\n",
      "85\n",
      "84\n",
      "83\n",
      "82\n",
      "81\n",
      "80\n",
      "79\n",
      "78\n",
      "77\n",
      "76\n",
      "75\n",
      "74\n",
      "73\n",
      "72\n",
      "71\n",
      "70\n",
      "69\n",
      "68\n",
      "67\n",
      "66\n",
      "65\n",
      "64\n",
      "63\n",
      "62\n",
      "61\n",
      "60\n",
      "59\n",
      "58\n",
      "57\n",
      "56\n",
      "55\n",
      "54\n",
      "53\n",
      "52\n",
      "51\n",
      "50\n",
      "49\n",
      "48\n",
      "47\n",
      "46\n",
      "45\n",
      "44\n",
      "43\n",
      "42\n",
      "41\n",
      "40\n",
      "39\n",
      "38\n",
      "37\n",
      "36\n",
      "35\n",
      "34\n",
      "33\n",
      "32\n",
      "31\n",
      "30\n",
      "29\n",
      "28\n",
      "27\n",
      "26\n",
      "25\n",
      "24\n",
      "23\n",
      "22\n",
      "21\n",
      "20\n",
      "19\n",
      "18\n",
      "17\n",
      "16\n",
      "15\n",
      "14\n",
      "13\n",
      "12\n",
      "11\n",
      "10\n",
      "9\n",
      "8\n",
      "7\n",
      "6\n",
      "5\n",
      "4\n",
      "3\n",
      "2\n",
      "1\n"
     ]
    }
   ],
   "source": [
    "b =100\n",
    "while b>=1:\n",
    "    print(b)\n",
    "    b = b-1"
   ]
  },
  {
   "cell_type": "code",
   "execution_count": 69,
   "id": "5f472d79-4a06-4a6b-958e-cb6ee0e3cd79",
   "metadata": {},
   "outputs": [
    {
     "name": "stdout",
     "output_type": "stream",
     "text": [
      "3\n",
      "6\n",
      "9\n",
      "12\n",
      "15\n",
      "18\n",
      "21\n",
      "24\n",
      "27\n",
      "30\n"
     ]
    }
   ],
   "source": [
    "g= 1\n",
    "while g<=10:\n",
    "    print(g*3)\n",
    "    g = g+1"
   ]
  },
  {
   "cell_type": "code",
   "execution_count": 70,
   "id": "07c4bea5-6f59-4539-89b4-714063b40967",
   "metadata": {},
   "outputs": [
    {
     "name": "stdout",
     "output_type": "stream",
     "text": [
      "1\n",
      "4\n",
      "9\n",
      "16\n",
      "25\n",
      "36\n",
      "49\n",
      "64\n",
      "81\n",
      "100\n"
     ]
    }
   ],
   "source": [
    "\n",
    "p = 1\n",
    "while p<= 10:\n",
    "    print(p*p)\n",
    "    p = p+1\n",
    "    "
   ]
  },
  {
   "cell_type": "code",
   "execution_count": 71,
   "id": "ac03975c-be2d-426a-a9af-89fa8a7c5beb",
   "metadata": {},
   "outputs": [
    {
     "name": "stdout",
     "output_type": "stream",
     "text": [
      "1\n",
      "2\n",
      "3\n",
      "End the loop\n"
     ]
    }
   ],
   "source": [
    "i = 1\n",
    "while i<=5:\n",
    "    print(i)\n",
    "    if i==3:\n",
    "        break\n",
    "    i = i+1\n",
    " \n",
    "print(\"End the loop\")"
   ]
  },
  {
   "cell_type": "markdown",
   "id": "96f19643-1ad7-4751-ae5e-39262b89e713",
   "metadata": {},
   "source": [
    "#  For"
   ]
  },
  {
   "cell_type": "code",
   "execution_count": 72,
   "id": "11dd4524-85f9-459b-a3a2-202aef422fe3",
   "metadata": {},
   "outputs": [],
   "source": [
    "# Loop are used for sequential traversal. For traversing list, string, tuple etc\n",
    "# for el in list:"
   ]
  },
  {
   "cell_type": "code",
   "execution_count": 73,
   "id": "5c14f625-4bd3-41cf-a058-5eaa575e2a6c",
   "metadata": {},
   "outputs": [
    {
     "name": "stdout",
     "output_type": "stream",
     "text": [
      "20\n",
      "39\n",
      "4\n",
      "950\n"
     ]
    }
   ],
   "source": [
    "a= [20,39, 4,950]\n",
    "for b in a:\n",
    "    print(b)"
   ]
  },
  {
   "cell_type": "code",
   "execution_count": 74,
   "id": "6e706db3-a65c-47a4-a813-20a970392211",
   "metadata": {},
   "outputs": [
    {
     "name": "stdout",
     "output_type": "stream",
     "text": [
      "S\n",
      "u\n",
      "r\n",
      "y\n",
      "a\n",
      " \n",
      "Y\n",
      "a\n",
      "d\n",
      "a\n",
      "v\n"
     ]
    }
   ],
   "source": [
    "ab=\"Surya Yadav\"\n",
    "for c in ab:\n",
    "    print(c)\n",
    "    \n"
   ]
  },
  {
   "cell_type": "markdown",
   "id": "81dc616c-5960-46e7-a866-cac7cd55b63a",
   "metadata": {},
   "source": [
    "# Range"
   ]
  },
  {
   "cell_type": "raw",
   "id": "1f936f28-d9e9-4241-a3aa-6a53036e98ee",
   "metadata": {},
   "source": [
    "#range function returns a sequence of numbers, starting from 0 by default,  and increment by 1(by default), and stops before a specified number. \n",
    "# range (start , stop, step)"
   ]
  },
  {
   "cell_type": "code",
   "execution_count": 75,
   "id": "ade43b71-6852-4f35-835e-d425b0e36e83",
   "metadata": {},
   "outputs": [
    {
     "name": "stdout",
     "output_type": "stream",
     "text": [
      "0\n",
      "1\n",
      "2\n",
      "3\n",
      "4\n",
      "5\n",
      "6\n",
      "7\n",
      "8\n",
      "9\n"
     ]
    }
   ],
   "source": [
    "for k in range(10):\n",
    "    print(k)\n",
    "   "
   ]
  },
  {
   "cell_type": "code",
   "execution_count": 76,
   "id": "9e046664-a3de-4e07-8977-180852fe7020",
   "metadata": {},
   "outputs": [
    {
     "name": "stdout",
     "output_type": "stream",
     "text": [
      "2\n",
      "5\n",
      "8\n",
      "11\n",
      "14\n",
      "17\n",
      "20\n",
      "23\n",
      "26\n",
      "29\n",
      "32\n",
      "35\n",
      "38\n",
      "41\n",
      "44\n",
      "47\n",
      "50\n",
      "53\n",
      "56\n",
      "59\n",
      "62\n",
      "65\n",
      "68\n",
      "71\n",
      "74\n",
      "77\n",
      "80\n",
      "83\n",
      "86\n",
      "89\n",
      "92\n",
      "95\n",
      "98\n"
     ]
    }
   ],
   "source": [
    "for i in range(2, 100, 3):\n",
    "    print(i)"
   ]
  },
  {
   "cell_type": "markdown",
   "id": "4d6d3017-b7ef-42f4-8196-b1bc49ceaca9",
   "metadata": {},
   "source": [
    "# function"
   ]
  },
  {
   "cell_type": "code",
   "execution_count": 77,
   "id": "bb0b1340-6988-4e9e-87d9-df07f15df42f",
   "metadata": {},
   "outputs": [],
   "source": [
    "# Block of statement that perform a specific task.\n",
    "# redundant code "
   ]
  },
  {
   "cell_type": "code",
   "execution_count": 78,
   "id": "0282e32b-ecb1-47f7-8424-a42719192932",
   "metadata": {},
   "outputs": [
    {
     "name": "stdout",
     "output_type": "stream",
     "text": [
      "13\n"
     ]
    }
   ],
   "source": [
    "def sum(a,b):\n",
    "    print( a+b)\n",
    "\n",
    "sum(4,9)\n",
    "    "
   ]
  },
  {
   "cell_type": "code",
   "execution_count": 79,
   "id": "3c15c554-4c8b-4284-af14-b984f25f3aca",
   "metadata": {},
   "outputs": [
    {
     "name": "stdout",
     "output_type": "stream",
     "text": [
      "16\n"
     ]
    }
   ],
   "source": [
    "sum(7,9)"
   ]
  },
  {
   "cell_type": "code",
   "execution_count": 80,
   "id": "6a57b83b-fc61-47d3-8dad-b2a523b4aa14",
   "metadata": {},
   "outputs": [
    {
     "name": "stdout",
     "output_type": "stream",
     "text": [
      "23\n"
     ]
    }
   ],
   "source": [
    "def add(a,b):\n",
    "    print( a+b)\n",
    "\n",
    "a = add(4,19)"
   ]
  },
  {
   "cell_type": "code",
   "execution_count": 81,
   "id": "4cae8a8b-dd3e-4bc5-ba00-c10320e4df33",
   "metadata": {},
   "outputs": [
    {
     "name": "stdout",
     "output_type": "stream",
     "text": [
      "21.333333333333332\n"
     ]
    }
   ],
   "source": [
    "def avg(a,b,c):\n",
    "    sum = a+b+c\n",
    "    th= sum/3\n",
    "    return th\n",
    "ke = avg(18,29,17)\n",
    "print(ke)"
   ]
  },
  {
   "cell_type": "code",
   "execution_count": 82,
   "id": "14aa5e98-dbf1-42fb-b9fb-b4868cf60eca",
   "metadata": {},
   "outputs": [],
   "source": [
    "# build in function and user define fuunction\n",
    "# default parameter :- Assiging a default value to parameter, \n",
    "# which is used when no argument is passed"
   ]
  },
  {
   "cell_type": "code",
   "execution_count": 83,
   "id": "f1973295-9550-4da8-873e-bcf04984312c",
   "metadata": {},
   "outputs": [
    {
     "data": {
      "text/plain": [
       "15"
      ]
     },
     "execution_count": 83,
     "metadata": {},
     "output_type": "execute_result"
    }
   ],
   "source": [
    "def prof(a=3, b=5):\n",
    "    return a*b\n",
    "prof()"
   ]
  },
  {
   "cell_type": "markdown",
   "id": "5e8b6bce-7311-40c8-a043-5e14831b182a",
   "metadata": {},
   "source": [
    "# Recursion"
   ]
  },
  {
   "cell_type": "code",
   "execution_count": 84,
   "id": "9a8c55f0-cbf3-42a0-8b93-0e9615fa48ab",
   "metadata": {},
   "outputs": [],
   "source": [
    "# when a function calls itself repeatedly"
   ]
  },
  {
   "cell_type": "code",
   "execution_count": 85,
   "id": "3158d244-b956-42c2-8f64-180a908ac82b",
   "metadata": {},
   "outputs": [
    {
     "data": {
      "text/plain": [
       "24"
      ]
     },
     "execution_count": 85,
     "metadata": {},
     "output_type": "execute_result"
    }
   ],
   "source": [
    "def show(n):\n",
    "    if n==0 or n==1:\n",
    "        return 1\n",
    "    else:\n",
    "        return n* show(n-1)\n",
    "        \n",
    "show(4)\n",
    "        "
   ]
  },
  {
   "cell_type": "markdown",
   "id": "6474acd5-d322-4f41-b8e6-9ceb966ec746",
   "metadata": {},
   "source": [
    "# File I/O in python"
   ]
  },
  {
   "cell_type": "code",
   "execution_count": 86,
   "id": "ff93f562-071e-4a82-8b1e-4a0564fbbf0e",
   "metadata": {},
   "outputs": [],
   "source": [
    "# Python can be used perform operations on a file.(read and write)\n",
    "# 1.Text files:- txt, doc, log etc\n",
    "# 2.Binary Files:- mp4, mov, png, jpeg etc "
   ]
  },
  {
   "cell_type": "code",
   "execution_count": 87,
   "id": "8d2d9ca1-929e-4b70-99c8-69f9f9d280ef",
   "metadata": {},
   "outputs": [
    {
     "name": "stdout",
     "output_type": "stream",
     "text": [
      "Hello my name khan\n",
      "<class 'str'>\n"
     ]
    },
    {
     "name": "stderr",
     "output_type": "stream",
     "text": [
      "<>:1: SyntaxWarning: invalid escape sequence '\\S'\n",
      "<>:1: SyntaxWarning: invalid escape sequence '\\S'\n",
      "C:\\Users\\HI\\AppData\\Local\\Temp\\ipykernel_18308\\1791017684.py:1: SyntaxWarning: invalid escape sequence '\\S'\n",
      "  f = open(\"E:\\Surya Yadav Assignment (14-06-2025).txt\",\"r\") # mode read, write\n"
     ]
    }
   ],
   "source": [
    "f = open(\"E:\\Surya Yadav Assignment (14-06-2025).txt\",\"r\") # mode read, write\n",
    "data = f.read()\n",
    "print(data)\n",
    "print(type(data))\n",
    "f.close()"
   ]
  },
  {
   "cell_type": "code",
   "execution_count": 88,
   "id": "713dd1ab-94b6-4123-a671-86296699b710",
   "metadata": {},
   "outputs": [
    {
     "name": "stdout",
     "output_type": "stream",
     "text": [
      "18\n",
      "<class 'int'>\n"
     ]
    },
    {
     "name": "stderr",
     "output_type": "stream",
     "text": [
      "<>:1: SyntaxWarning: invalid escape sequence '\\S'\n",
      "<>:1: SyntaxWarning: invalid escape sequence '\\S'\n",
      "C:\\Users\\HI\\AppData\\Local\\Temp\\ipykernel_18308\\4155549985.py:1: SyntaxWarning: invalid escape sequence '\\S'\n",
      "  f = open(\"E:\\Surya Yadav Assignment (14-06-2025).txt\",\"w\") # mode read, write\n"
     ]
    }
   ],
   "source": [
    "f = open(\"E:\\Surya Yadav Assignment (14-06-2025).txt\",\"w\") # mode read, write\n",
    "data = f.write(\"Hello my name khan\")\n",
    "print(data)\n",
    "print(type(data))\n",
    "f.close()"
   ]
  },
  {
   "cell_type": "code",
   "execution_count": 90,
   "id": "1ea2af7a-e01e-4060-9f09-581b96e236a8",
   "metadata": {},
   "outputs": [
    {
     "name": "stdout",
     "output_type": "stream",
     "text": [
      "17\n",
      "<class 'int'>\n"
     ]
    },
    {
     "name": "stderr",
     "output_type": "stream",
     "text": [
      "<>:1: SyntaxWarning: invalid escape sequence '\\S'\n",
      "<>:1: SyntaxWarning: invalid escape sequence '\\S'\n",
      "C:\\Users\\HI\\AppData\\Local\\Temp\\ipykernel_18308\\2061380256.py:1: SyntaxWarning: invalid escape sequence '\\S'\n",
      "  f = open(\"E:\\Surya Yadav Assignment (14-06-2025).txt\",\"a\") # mode read, write\n"
     ]
    }
   ],
   "source": [
    "f = open(\"E:\\Surya Yadav Assignment (14-06-2025).txt\",\"a\") # mode read, write\n",
    "data = f.write(\"\\nLife is not easy\")\n",
    "print(data)\n",
    "print(type(data))\n",
    "f.close()"
   ]
  },
  {
   "cell_type": "markdown",
   "id": "cadafca4-1023-4903-b50e-a1606dfe13e3",
   "metadata": {},
   "source": [
    "# OOP"
   ]
  },
  {
   "cell_type": "code",
   "execution_count": 1,
   "id": "244f73d0-9290-44e9-bd8c-9c70b8a5bde9",
   "metadata": {},
   "outputs": [],
   "source": [
    "# To map with real world scenario, we started using in code\n",
    "# This is called object oriented programming"
   ]
  },
  {
   "cell_type": "markdown",
   "id": "adfddc90-a0d3-43cc-931a-54c9a1b0da6e",
   "metadata": {},
   "source": [
    "# class"
   ]
  },
  {
   "cell_type": "code",
   "execution_count": 2,
   "id": "6b6b662c-24db-4abc-8b10-def6d63f7829",
   "metadata": {},
   "outputs": [],
   "source": [
    "# class is a blueprint for creating object\n",
    "# class Student:\n",
    "#     name=\"Surya\"\n",
    "# creating object(instance) \n",
    "# s1 =Student()\n",
    "# s1.name"
   ]
  },
  {
   "cell_type": "code",
   "execution_count": 4,
   "id": "0dd07d45-50ca-4b7d-96ac-52d38ec62a4a",
   "metadata": {},
   "outputs": [
    {
     "data": {
      "text/plain": [
       "'Surya'"
      ]
     },
     "execution_count": 4,
     "metadata": {},
     "output_type": "execute_result"
    }
   ],
   "source": [
    "class Student:\n",
    "     name=\"Surya\"\n",
    "s1 =Student()\n",
    "s1.name"
   ]
  },
  {
   "cell_type": "markdown",
   "id": "62769edb-dd01-4a9d-8ed1-00cb08194e80",
   "metadata": {},
   "source": [
    "# Constructor"
   ]
  },
  {
   "cell_type": "code",
   "execution_count": 5,
   "id": "13ab6f85-07df-4ae9-91ed-2b9c98980b8c",
   "metadata": {},
   "outputs": [],
   "source": [
    "# all classes have a function called _init_(),\n",
    "# which is always executed when the object is being initiated"
   ]
  },
  {
   "cell_type": "code",
   "execution_count": 6,
   "id": "e9138e6c-6376-48f2-8dfb-e8375a8792b2",
   "metadata": {},
   "outputs": [],
   "source": [
    "# class Student:\n",
    "#def __init__(self, fulname)\n",
    "#self.name = fulname\n",
    "# The self parameter is a reference to the current instance of the class, and \n",
    "# used to access variable that belongs to the class"
   ]
  },
  {
   "cell_type": "code",
   "execution_count": 7,
   "id": "2375482f-e658-484d-b792-19cf8b4fb228",
   "metadata": {},
   "outputs": [],
   "source": [
    "# default constructor\n",
    "# def __init__(self)\n",
    "\n",
    "# Parameter constructor\n",
    "# def __init__(self, name)"
   ]
  },
  {
   "cell_type": "markdown",
   "id": "b20508ab-7d52-4c1a-9e47-de7ec117b39d",
   "metadata": {},
   "source": [
    "# Class and Instance Attribute"
   ]
  },
  {
   "cell_type": "code",
   "execution_count": 8,
   "id": "583879a9-b0ec-46ab-b8bf-724a706e147c",
   "metadata": {},
   "outputs": [],
   "source": [
    "# instance (object) Attribute = student name different\n",
    "# class Attribute = college name is same all student(common)\n",
    "# obj attribute > class attribute"
   ]
  },
  {
   "cell_type": "markdown",
   "id": "3cb84915-76c5-48a7-98ef-cf838795bcf0",
   "metadata": {},
   "source": [
    "# Method"
   ]
  },
  {
   "cell_type": "code",
   "execution_count": 9,
   "id": "7b68cddb-39f1-47ae-beae-44a22b399f47",
   "metadata": {},
   "outputs": [],
   "source": [
    "# Methods are function that belong to object"
   ]
  },
  {
   "cell_type": "code",
   "execution_count": 13,
   "id": "f5e53a9f-975f-4bfe-9fca-733f2b8eed1e",
   "metadata": {},
   "outputs": [
    {
     "name": "stdout",
     "output_type": "stream",
     "text": [
      "hello surya\n"
     ]
    }
   ],
   "source": [
    "class Student:\n",
    "    def __init__(self, fullname):\n",
    "        self.name = fullname\n",
    "\n",
    "    def hello(self):\n",
    "        print(\"hello\", self.name)\n",
    "\n",
    "s1 = Student(\"surya\")\n",
    "s1.hello()"
   ]
  },
  {
   "cell_type": "markdown",
   "id": "07b31575-75f3-4743-b00f-73012da88129",
   "metadata": {},
   "source": [
    "# Static"
   ]
  },
  {
   "cell_type": "code",
   "execution_count": null,
   "id": "19f0ed2b-2d80-4e48-beb5-18fdbd338096",
   "metadata": {},
   "outputs": [],
   "source": [
    "# Method that don't use the self parameter(work at class level)\n",
    "# class Student:\n",
    "#    @staticmethod decorator ( change normal function to static method)\n",
    "#    def college():\n",
    "#    print(\"ABC College\")"
   ]
  }
 ],
 "metadata": {
  "kernelspec": {
   "display_name": "Python 3 (ipykernel)",
   "language": "python",
   "name": "python3"
  },
  "language_info": {
   "codemirror_mode": {
    "name": "ipython",
    "version": 3
   },
   "file_extension": ".py",
   "mimetype": "text/x-python",
   "name": "python",
   "nbconvert_exporter": "python",
   "pygments_lexer": "ipython3",
   "version": "3.12.7"
  }
 },
 "nbformat": 4,
 "nbformat_minor": 5
}
